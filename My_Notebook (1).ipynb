{
  "metadata": {
    "kernelspec": {
      "name": "python",
      "display_name": "Pyolite",
      "language": "python"
    },
    "language_info": {
      "codemirror_mode": {
        "name": "python",
        "version": 3
      },
      "file_extension": ".py",
      "mimetype": "text/x-python",
      "name": "python",
      "nbconvert_exporter": "python",
      "pygments_lexer": "ipython3",
      "version": "3.8"
    }
  },
  "nbformat_minor": 4,
  "nbformat": 4,
  "cells": [
    {
      "cell_type": "markdown",
      "source": "<center>\n    <img src=\"https://cf-courses-data.s3.us.cloud-object-storage.appdomain.cloud/IBMDeveloperSkillsNetwork-DS0105EN-SkillsNetwork/labs/Module2/images/SN_web_lightmode.png\" width=\"300\" alt=\"cognitiveclass.ai logo\">\n</center>\n",
      "metadata": {
        "jupyter": {
          "source_hidden": true
        },
        "tags": []
      }
    },
    {
      "cell_type": "markdown",
      "source": "#### Add your code below following the instructions given in the course\n",
      "metadata": {}
    },
    {
      "cell_type": "markdown",
      "source": "# IBM Coursera\n\n<a href=\"https://dataplatform.cloud.ibm.com/gallery\">IBM Cloud Gallery</a>\n\n<a href=\"https://github.com/adam-p/markdown-here/wiki/Markdown-Cheatsheet\">Markdown formatting rules</a>",
      "metadata": {}
    },
    {
      "cell_type": "markdown",
      "source": "## Exercício 1",
      "metadata": {}
    },
    {
      "cell_type": "code",
      "source": "a=1\nb=2\na+b",
      "metadata": {
        "tags": [],
        "trusted": true
      },
      "execution_count": 1,
      "outputs": [
        {
          "execution_count": 1,
          "output_type": "execute_result",
          "data": {
            "text/plain": "3"
          },
          "metadata": {}
        }
      ]
    },
    {
      "cell_type": "markdown",
      "source": "## Exercício 2",
      "metadata": {
        "tags": []
      }
    },
    {
      "cell_type": "markdown",
      "source": "|Time| Título| Ano|\n|----|-------|----|\n|Vasco|Libertadores|1998|\n|Internacional|Libertadores|2006|\n|Palmeiras|Brasileirão|2022|",
      "metadata": {}
    },
    {
      "cell_type": "markdown",
      "source": "## Links Relevantes\n\n<a href=\"https://github.com/jupyter/jupyter/wiki\">Jupyter's Notebooks</a>\n\n<a href=\"https://nbviewer.jupyter.org/github/Tanu-N-Prabhu/Python/blob/master/Exploratory_data_Analysis.ipynb\">Data Analysis on Jupyter</a>\n\n<a href=\"https://towardsdatascience.com/data-cleaning-with-python-using-pandas-library-c6f4a68ea8eb\">Intergration\\cleansing</a>\n\n<a href=\"https://nbviewer.jupyter.org/github/temporaer/tutorial_ml_gkbionics/blob/master/2%20-%20KMeans.ipynb\">Clustering</a>\n\n<a href=\"https://www.kaggle.com/lalitharajesh/iris-dataset-exploratory-data-analysis\">In-depth notebook on the_iris_dataset</a>",
      "metadata": {
        "tags": []
      }
    },
    {
      "cell_type": "code",
      "source": "",
      "metadata": {},
      "execution_count": null,
      "outputs": []
    }
  ]
}